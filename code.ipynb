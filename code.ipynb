{
 "cells": [
  {
   "cell_type": "code",
   "execution_count": null,
   "metadata": {},
   "outputs": [],
   "source": [
    "import numpy as np\n",
    "import cv2\n",
    "from sklearn.preprocessing import StandardScaler\n",
    "from PIL import Image\n",
    "import os\n",
    "import random"
   ]
  },
  {
   "cell_type": "code",
   "execution_count": null,
   "metadata": {},
   "outputs": [],
   "source": [
    "def create_vec(location, count_of_same_celebrity=10):\n",
    "    '''\n",
    "    Create a random vectorized array with 'n' number of images of each celebrity\n",
    "\n",
    "    location: location of the master folder\n",
    "    count_of_same_celebrity: number of random images taken of the same celebrity\n",
    "    '''\n",
    "    # Create an empty list to store arrays\n",
    "    img_arrays = []\n",
    "\n",
    "    for celeb in os.listdir(location):\n",
    "        celeb_path = os.path.join(location, celeb)\n",
    "        if not os.path.isdir(celeb_path):\n",
    "            continue  # Skip if the item in the directory is not a folder\n",
    "\n",
    "        files = [f for f in os.listdir(celeb_path) if os.path.isfile(os.path.join(celeb_path, f))]\n",
    "\n",
    "        # Use min() to avoid going beyond the available indices\n",
    "        selected_files = random.sample(files, min(len(files), count_of_same_celebrity))\n",
    "\n",
    "        for selected_file in selected_files:\n",
    "            face_path = os.path.join(celeb_path, selected_file)\n",
    "\n",
    "            # Open and resize the face image\n",
    "            face_image = Image.open(face_path).convert(\"L\")  # Convert to grayscale\n",
    "            resized_face_image = face_image.resize((50, 50))\n",
    "            img_array = np.array(resized_face_image).flatten()\n",
    "            img_arrays.append(img_array)\n",
    "\n",
    "    # Convert the list of arrays into a NumPy array\n",
    "    img_matrix = np.transpose(img_arrays)\n",
    "\n",
    "    return img_matrix"
   ]
  },
  {
   "cell_type": "code",
   "execution_count": null,
   "metadata": {},
   "outputs": [],
   "source": [
    "A=create_vec('/content/drive/MyDrive/Cropped Celebrity Faces Dataset')\n",
    "A.shape"
   ]
  },
  {
   "cell_type": "code",
   "execution_count": null,
   "metadata": {},
   "outputs": [],
   "source": [
    "mean = np.mean(A, axis=1, keepdims=True)\n",
    "B = A - mean"
   ]
  },
  {
   "cell_type": "code",
   "execution_count": null,
   "metadata": {},
   "outputs": [],
   "source": [
    "#Covariance\n",
    "C= B @ B.T\n",
    "#Eigendecomposition D=Eigenvalues V=Eigenvectors\n",
    "U , S , V = np.linalg.svd(B, full_matrices=True)\n",
    "S.shape"
   ]
  },
  {
   "cell_type": "code",
   "execution_count": null,
   "metadata": {},
   "outputs": [],
   "source": [
    "S_mat = np.zeros((U.shape[1],V.shape[0]))\n",
    "for i in range(len(S)):\n",
    "  S_mat[i][i] = S[i]"
   ]
  },
  {
   "cell_type": "code",
   "execution_count": null,
   "metadata": {},
   "outputs": [],
   "source": [
    "print(U.shape,S_mat.shape,V.shape)"
   ]
  },
  {
   "cell_type": "code",
   "execution_count": null,
   "metadata": {},
   "outputs": [],
   "source": [
    "Sigma = np.zeros((B.shape[0], B.shape[1]))\n",
    "k = min(B.shape[0], B.shape[1])\n",
    "for i in range(k):\n",
    "    Sigma[i,i]=S[i]"
   ]
  },
  {
   "cell_type": "code",
   "execution_count": null,
   "metadata": {},
   "outputs": [],
   "source": [
    "# Sorting eigenvectors and eigenvalues\n",
    "S_new = np.sqrt(S) # dim(S_new): (170,)\n",
    "sorted_indices = np.argsort(S_new)[::-1]\n",
    "U_sorted = U[:, sorted_indices]\n",
    "U_sorted.shape"
   ]
  },
  {
   "cell_type": "code",
   "execution_count": null,
   "metadata": {},
   "outputs": [],
   "source": [
    "# Number of eigenfaces\n",
    "num_components = 50\n",
    "selected_U = U_sorted[:, :num_components]\n",
    "selected_U.shape"
   ]
  },
  {
   "cell_type": "code",
   "execution_count": null,
   "metadata": {},
   "outputs": [],
   "source": [
    "# Project data onto selected eigenvectors (eigenfaces)\n",
    "W = selected_U.T @ B\n",
    "W.shape"
   ]
  },
  {
   "cell_type": "code",
   "execution_count": null,
   "metadata": {},
   "outputs": [],
   "source": [
    "#Testing image\n",
    "def preprocess_test_image(file_path, target_size=(50, 50)):\n",
    "    img = Image.open(file_path).convert('L')  # Convert image to grayscale\n",
    "    img_resized = img.resize(target_size, Image.LANCZOS)  # Resize image to a uniform size\n",
    "    img_array = np.array(img_resized).flatten()  # Flatten the resized image to a single column vector\n",
    "    return img_array\n",
    "\n",
    "# Path to your test image file (replace with the actual path to your test image)\n",
    "test_image_path = '/content/drive/MyDrive/Test/angelina jolie.jpg'  # Replace with your test image file path\n",
    "\n",
    "# Load and preprocess the test image into a column vector\n",
    "x = preprocess_test_image(test_image_path)"
   ]
  },
  {
   "cell_type": "code",
   "execution_count": null,
   "metadata": {},
   "outputs": [],
   "source": [
    "x_reshaped = x.reshape(-1,1)\n",
    "x_reshaped.shape\n",
    "\n",
    "#Normalizing\n",
    "x_norm = x_reshaped - mean\n",
    "#Transforming\n",
    "x_trans = selected_U.T @ x_norm\n",
    "x_trans.shape"
   ]
  },
  {
   "cell_type": "code",
   "execution_count": null,
   "metadata": {},
   "outputs": [],
   "source": [
    "d = np.linalg.norm(x_trans - W, axis=0)\n",
    "d_min = np.min(d)\n",
    "d_index = np.argmin(d)"
   ]
  },
  {
   "cell_type": "code",
   "execution_count": null,
   "metadata": {},
   "outputs": [],
   "source": [
    "from IPython.display import display\n",
    "import matplotlib.pyplot as plt\n",
    "\n",
    "def verify(A,n):\n",
    "  '''\n",
    "  Display the 'n'th image (column) from the 'A' matrix\n",
    "  n: number less than len(A)\n",
    "  A: Matrix of image column-wise\n",
    "  '''\n",
    "  reshaped_image = A[:,n].reshape(50,50)\n",
    "  # Convert the reshaped image to a PIL Image\n",
    "  image = Image.fromarray(reshaped_image.astype('uint8'))\n",
    "  display(image)"
   ]
  },
  {
   "cell_type": "code",
   "execution_count": null,
   "metadata": {},
   "outputs": [],
   "source": [
    "verify(A, d_index)"
   ]
  }
 ],
 "metadata": {
  "language_info": {
   "name": "python"
  }
 },
 "nbformat": 4,
 "nbformat_minor": 2
}
